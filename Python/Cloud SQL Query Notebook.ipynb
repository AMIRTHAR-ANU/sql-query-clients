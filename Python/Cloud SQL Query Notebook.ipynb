{
 "cells": [
  {
   "cell_type": "code",
   "execution_count": null,
   "metadata": {},
   "outputs": [],
   "source": [
    "!pip install ibmcloudsql"
   ]
  },
  {
   "cell_type": "code",
   "execution_count": null,
   "metadata": {},
   "outputs": [],
   "source": [
    "import ibmcloudsql\n",
    "from pixiedust.display import *"
   ]
  },
  {
   "cell_type": "code",
   "execution_count": null,
   "metadata": {},
   "outputs": [],
   "source": [
    "my_bluemix_apikey = '<your api key here>'\n",
    "my_instance_crn='<your ibm cloud sql query instance CRN here>'\n",
    "my_target_cos_url='<your ibm cloud object storage URL (cos://<endpoint>/<bucket>/[prefix]) here>'"
   ]
  },
  {
   "cell_type": "code",
   "execution_count": null,
   "metadata": {},
   "outputs": [],
   "source": [
    "sqlClient = ibmcloudsql.SQLQuery(my_bluemix_apikey, my_instance_crn, my_target_cos_url, client_info='My little SQL notebook')"
   ]
  },
  {
   "cell_type": "code",
   "execution_count": null,
   "metadata": {},
   "outputs": [],
   "source": [
    "result_df = sqlClient.run_sql(\n",
    "\"WITH orders_shipped AS \\\n",
    "  (SELECT OrderID, EmployeeID, (CASE WHEN shippedDate < requiredDate \\\n",
    "                                   THEN 'On Time' \\\n",
    "                                   ELSE 'Late' \\\n",
    "                                END) AS Shipped \\\n",
    "   FROM cos://us-geo/sql/orders.parquet STORED AS PARQUET) \\\n",
    "SELECT e.FirstName, e.LastName, COUNT(o.OrderID) As NumOrders, Shipped \\\n",
    "FROM orders_shipped o, \\\n",
    "     cos://us-geo/sql/employees.parquet STORED AS PARQUET e \\\n",
    "WHERE e.EmployeeID = o.EmployeeID \\\n",
    "GROUP BY e.FirstName, e.LastName, Shipped \\\n",
    "ORDER BY e.LastName, e.FirstName, NumOrders DESC\")"
   ]
  },
  {
   "cell_type": "code",
   "execution_count": null,
   "metadata": {
    "scrolled": true
   },
   "outputs": [],
   "source": [
    "result_df.head(200)"
   ]
  },
  {
   "cell_type": "code",
   "execution_count": null,
   "metadata": {
    "pixiedust": {
     "displayParams": {
      "aggregation": "SUM",
      "handlerId": "barChart",
      "keyFields": "FirstName,LastName",
      "orientation": "horizontal",
      "rendererId": "brunel",
      "rowCount": "500",
      "sortby": "Values ASC",
      "valueFields": "NumOrders"
     }
    },
    "scrolled": true
   },
   "outputs": [],
   "source": [
    "display(result_df)"
   ]
  },
  {
   "cell_type": "code",
   "execution_count": null,
   "metadata": {},
   "outputs": [],
   "source": [
    "sqlClient.sql_ui_link()"
   ]
  },
  {
   "cell_type": "code",
   "execution_count": null,
   "metadata": {},
   "outputs": [],
   "source": [
    "jobId = sqlClient.submit_sql('SELECT * from cos://us-geo/sql/products.parquet STORED AS PARQUET LIMIT 5')\n",
    "sqlClient.wait_for_job(jobId)\n",
    "sqlClient.get_result(jobId).head()"
   ]
  },
  {
   "cell_type": "code",
   "execution_count": null,
   "metadata": {},
   "outputs": [],
   "source": [
    "sqlClient.get_jobs().head(200)"
   ]
  }
 ],
 "metadata": {
  "kernelspec": {
   "display_name": "Python 2 with Spark 2.1",
   "language": "python",
   "name": "python2-spark21"
  },
  "language_info": {
   "codemirror_mode": {
    "name": "ipython",
    "version": 2
   },
   "file_extension": ".py",
   "mimetype": "text/x-python",
   "name": "python",
   "nbconvert_exporter": "python",
   "pygments_lexer": "ipython2",
   "version": "2.7.11"
  }
 },
 "nbformat": 4,
 "nbformat_minor": 1
}
